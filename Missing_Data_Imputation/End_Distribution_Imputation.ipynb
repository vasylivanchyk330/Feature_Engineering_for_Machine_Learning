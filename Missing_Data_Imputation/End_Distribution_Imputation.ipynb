{
 "cells": [
  {
   "cell_type": "markdown",
   "metadata": {},
   "source": [
    "# PART 4. END OF DISTRIBUTION IMPUTATION\n",
    "\n",
    "It is an automation of arbitrary value imputation by selecting arbitrary values at the end of the variable distributions.\n",
    "\n",
    "<br>\n",
    "\n",
    "__Dtypes__:<br>\n",
    "- numerical variables.\n",
    "\n",
    "__Assumptions__:<br>\n",
    "- MNAR - values are not missing at random.<br>\n",
    "- the missing observations, most likely look like the majority of the observations in the variable.<br>\n",
    "- a) normally distributed (the mean + or - 3 times the std); b) skewed (the IQR proximity rule)\n",
    "\n",
    "__Limitations__:\n",
    "- Distortion of the original variable distribution\n",
    "- Distortion of the original variance\n",
    "- Distortion of the covariance with the remaining variables of the dataset\n",
    "- Distortion of true outliers in the distribution\n",
    "\n",
    "__Datasets__:<br>\n",
    "- House Prices dataset <br>\n",
    "- Titanic dataset\n",
    "\n",
    "<br>\n",
    "\n",
    "### Content:\n",
    "\n",
    "__I. Titanic Dataset__:\n",
    "1. Loading Data and Basic Data Exploration\n",
    "2. Imputation\n",
    "    - Train/Test splitting.\n",
    "    - Identifying missing values columns and an extreme value. Adding extreme value columns\n",
    "    - Detection of changes before and after the imputation.\n",
    "    \n",
    "__II. House Prices Dataset Dataset__:\n",
    "1. Loading Data and Basic Data Exploration\n",
    "2. Imputation\n",
    "    - Train/Test splitting.\n",
    "    - Identifying missing values columns and an extreme value. Adding extreme value columns\n",
    "    - Detection of changes before and after the imputation. \n"
   ]
  },
  {
   "cell_type": "code",
   "execution_count": 1,
   "metadata": {},
   "outputs": [],
   "source": [
    "import pandas as pd\n",
    "import numpy as np\n",
    "\n",
    "import matplotlib.pyplot as plt\n",
    "import seaborn as sns\n",
    "\n",
    "from sklearn.model_selection import train_test_split"
   ]
  },
  {
   "cell_type": "markdown",
   "metadata": {},
   "source": [
    "# I. Titanic\n",
    "\n",
    "## 1. Loading Data and Basic Data Exploration"
   ]
  },
  {
   "cell_type": "code",
   "execution_count": 2,
   "metadata": {},
   "outputs": [
    {
     "data": {
      "text/html": [
       "<div>\n",
       "<style scoped>\n",
       "    .dataframe tbody tr th:only-of-type {\n",
       "        vertical-align: middle;\n",
       "    }\n",
       "\n",
       "    .dataframe tbody tr th {\n",
       "        vertical-align: top;\n",
       "    }\n",
       "\n",
       "    .dataframe thead th {\n",
       "        text-align: right;\n",
       "    }\n",
       "</style>\n",
       "<table border=\"1\" class=\"dataframe\">\n",
       "  <thead>\n",
       "    <tr style=\"text-align: right;\">\n",
       "      <th></th>\n",
       "      <th>survived</th>\n",
       "      <th>age</th>\n",
       "      <th>fare</th>\n",
       "    </tr>\n",
       "  </thead>\n",
       "  <tbody>\n",
       "    <tr>\n",
       "      <th>0</th>\n",
       "      <td>1</td>\n",
       "      <td>29.0000</td>\n",
       "      <td>211.3375</td>\n",
       "    </tr>\n",
       "    <tr>\n",
       "      <th>1</th>\n",
       "      <td>1</td>\n",
       "      <td>0.9167</td>\n",
       "      <td>151.5500</td>\n",
       "    </tr>\n",
       "    <tr>\n",
       "      <th>2</th>\n",
       "      <td>0</td>\n",
       "      <td>2.0000</td>\n",
       "      <td>151.5500</td>\n",
       "    </tr>\n",
       "    <tr>\n",
       "      <th>3</th>\n",
       "      <td>0</td>\n",
       "      <td>30.0000</td>\n",
       "      <td>151.5500</td>\n",
       "    </tr>\n",
       "    <tr>\n",
       "      <th>4</th>\n",
       "      <td>0</td>\n",
       "      <td>25.0000</td>\n",
       "      <td>151.5500</td>\n",
       "    </tr>\n",
       "  </tbody>\n",
       "</table>\n",
       "</div>"
      ],
      "text/plain": [
       "   survived      age      fare\n",
       "0         1  29.0000  211.3375\n",
       "1         1   0.9167  151.5500\n",
       "2         0   2.0000  151.5500\n",
       "3         0  30.0000  151.5500\n",
       "4         0  25.0000  151.5500"
      ]
     },
     "execution_count": 2,
     "metadata": {},
     "output_type": "execute_result"
    }
   ],
   "source": [
    "# load the Titanic Dataset with a few variables for analysing\n",
    "# and further imputation exploring\n",
    "\n",
    "data = pd.read_csv('../titanic.csv', usecols=['age', 'fare', 'survived'])\n",
    "data.head()"
   ]
  },
  {
   "cell_type": "code",
   "execution_count": 3,
   "metadata": {},
   "outputs": [
    {
     "data": {
      "text/plain": [
       "survived    0.000000\n",
       "age         0.200917\n",
       "fare        0.000764\n",
       "dtype: float64"
      ]
     },
     "execution_count": 3,
     "metadata": {},
     "output_type": "execute_result"
    }
   ],
   "source": [
    "# the percentage of NA\n",
    "\n",
    "data.isnull().mean()"
   ]
  },
  {
   "cell_type": "markdown",
   "metadata": {},
   "source": [
    "The only variable with missing data is Age, with ~20% of missing observations.\n",
    "\n",
    "## 2. Imputation\n",
    "\n",
    "### - Train/Test splitting\n",
    "\n",
    "Imputation should be done over the training set, and then propagated to the test set. For arbitrary value imputation, this is not so important, the value is chosen arbitrarily, however it is good to adhere to this practice and select the arbitrary value by looking only at the distribution of the variables in the train set."
   ]
  },
  {
   "cell_type": "code",
   "execution_count": 4,
   "metadata": {},
   "outputs": [
    {
     "data": {
      "text/plain": [
       "((916, 2), (393, 2))"
      ]
     },
     "execution_count": 4,
     "metadata": {},
     "output_type": "execute_result"
    }
   ],
   "source": [
    "# train_test_split\n",
    "\n",
    "X_train, X_test, y_train, y_test = train_test_split(\n",
    "    data[['age', 'fare']],\n",
    "    data['survived'], \n",
    "    test_size=0.3, \n",
    "    random_state=0)\n",
    "\n",
    "X_train.shape, X_test.shape"
   ]
  },
  {
   "cell_type": "markdown",
   "metadata": {},
   "source": [
    "### - Identifying missing values columns and an arbitrary extreme value. Adding replaced value columns"
   ]
  },
  {
   "cell_type": "code",
   "execution_count": 5,
   "metadata": {},
   "outputs": [],
   "source": [
    "# a function to fill missing values with an extreme value:\n",
    "\n",
    "def impute_na(df, variable, value):\n",
    "\n",
    "    return df[variable].fillna(value)"
   ]
  },
  {
   "cell_type": "code",
   "execution_count": 6,
   "metadata": {
    "scrolled": true
   },
   "outputs": [
    {
     "data": {
      "text/plain": [
       "<AxesSubplot:>"
      ]
     },
     "execution_count": 6,
     "metadata": {},
     "output_type": "execute_result"
    },
    {
     "data": {
      "image/png": "[encoded data removed]",
      "text/plain": [
       "<Figure size 432x288 with 1 Axes>"
      ]
     },
     "metadata": {
      "needs_background": "light"
     },
     "output_type": "display_data"
    }
   ],
   "source": [
    "# the distribution of Ages\n",
    "X_train.age.hist(bins=50)"
   ]
  },
  {
   "cell_type": "code",
   "execution_count": 7,
   "metadata": {},
   "outputs": [
    {
     "data": {
      "text/plain": [
       "72.03416424092518"
      ]
     },
     "execution_count": 7,
     "metadata": {},
     "output_type": "execute_result"
    }
   ],
   "source": [
    "# far end of the distribution:\n",
    "\n",
    "# because Age looks approximately Gaussian, \n",
    "# use the mean and std to calculate the replacement value\n",
    "\n",
    "X_train.age.mean() + 3 * X_train.age.std()"
   ]
  },
  {
   "cell_type": "code",
   "execution_count": 8,
   "metadata": {},
   "outputs": [
    {
     "data": {
      "text/html": [
       "<div>\n",
       "<style scoped>\n",
       "    .dataframe tbody tr th:only-of-type {\n",
       "        vertical-align: middle;\n",
       "    }\n",
       "\n",
       "    .dataframe tbody tr th {\n",
       "        vertical-align: top;\n",
       "    }\n",
       "\n",
       "    .dataframe thead th {\n",
       "        text-align: right;\n",
       "    }\n",
       "</style>\n",
       "<table border=\"1\" class=\"dataframe\">\n",
       "  <thead>\n",
       "    <tr style=\"text-align: right;\">\n",
       "      <th></th>\n",
       "      <th>age</th>\n",
       "      <th>fare</th>\n",
       "      <th>Age_imputed</th>\n",
       "    </tr>\n",
       "  </thead>\n",
       "  <tbody>\n",
       "    <tr>\n",
       "      <th>501</th>\n",
       "      <td>13.0</td>\n",
       "      <td>19.5000</td>\n",
       "      <td>13.000</td>\n",
       "    </tr>\n",
       "    <tr>\n",
       "      <th>588</th>\n",
       "      <td>4.0</td>\n",
       "      <td>23.0000</td>\n",
       "      <td>4.000</td>\n",
       "    </tr>\n",
       "    <tr>\n",
       "      <th>402</th>\n",
       "      <td>30.0</td>\n",
       "      <td>13.8583</td>\n",
       "      <td>30.000</td>\n",
       "    </tr>\n",
       "    <tr>\n",
       "      <th>1193</th>\n",
       "      <td>NaN</td>\n",
       "      <td>7.7250</td>\n",
       "      <td>72.034</td>\n",
       "    </tr>\n",
       "    <tr>\n",
       "      <th>686</th>\n",
       "      <td>22.0</td>\n",
       "      <td>7.7250</td>\n",
       "      <td>22.000</td>\n",
       "    </tr>\n",
       "    <tr>\n",
       "      <th>971</th>\n",
       "      <td>NaN</td>\n",
       "      <td>7.8792</td>\n",
       "      <td>72.034</td>\n",
       "    </tr>\n",
       "    <tr>\n",
       "      <th>117</th>\n",
       "      <td>30.0</td>\n",
       "      <td>56.9292</td>\n",
       "      <td>30.000</td>\n",
       "    </tr>\n",
       "    <tr>\n",
       "      <th>540</th>\n",
       "      <td>2.0</td>\n",
       "      <td>26.0000</td>\n",
       "      <td>2.000</td>\n",
       "    </tr>\n",
       "    <tr>\n",
       "      <th>294</th>\n",
       "      <td>49.0</td>\n",
       "      <td>110.8833</td>\n",
       "      <td>49.000</td>\n",
       "    </tr>\n",
       "    <tr>\n",
       "      <th>261</th>\n",
       "      <td>35.0</td>\n",
       "      <td>26.2875</td>\n",
       "      <td>35.000</td>\n",
       "    </tr>\n",
       "    <tr>\n",
       "      <th>587</th>\n",
       "      <td>2.0</td>\n",
       "      <td>23.0000</td>\n",
       "      <td>2.000</td>\n",
       "    </tr>\n",
       "    <tr>\n",
       "      <th>489</th>\n",
       "      <td>42.0</td>\n",
       "      <td>26.0000</td>\n",
       "      <td>42.000</td>\n",
       "    </tr>\n",
       "    <tr>\n",
       "      <th>2</th>\n",
       "      <td>2.0</td>\n",
       "      <td>151.5500</td>\n",
       "      <td>2.000</td>\n",
       "    </tr>\n",
       "    <tr>\n",
       "      <th>405</th>\n",
       "      <td>18.0</td>\n",
       "      <td>13.0000</td>\n",
       "      <td>18.000</td>\n",
       "    </tr>\n",
       "    <tr>\n",
       "      <th>1284</th>\n",
       "      <td>NaN</td>\n",
       "      <td>8.0500</td>\n",
       "      <td>72.034</td>\n",
       "    </tr>\n",
       "  </tbody>\n",
       "</table>\n",
       "</div>"
      ],
      "text/plain": [
       "       age      fare  Age_imputed\n",
       "501   13.0   19.5000       13.000\n",
       "588    4.0   23.0000        4.000\n",
       "402   30.0   13.8583       30.000\n",
       "1193   NaN    7.7250       72.034\n",
       "686   22.0    7.7250       22.000\n",
       "971    NaN    7.8792       72.034\n",
       "117   30.0   56.9292       30.000\n",
       "540    2.0   26.0000        2.000\n",
       "294   49.0  110.8833       49.000\n",
       "261   35.0   26.2875       35.000\n",
       "587    2.0   23.0000        2.000\n",
       "489   42.0   26.0000       42.000\n",
       "2      2.0  151.5500        2.000\n",
       "405   18.0   13.0000       18.000\n",
       "1284   NaN    8.0500       72.034"
      ]
     },
     "execution_count": 8,
     "metadata": {},
     "output_type": "execute_result"
    }
   ],
   "source": [
    "# dding replecing value column (with rounded replecing value)\n",
    "\n",
    "X_train['Age_imputed'] = impute_na(X_train, 'age',\n",
    "                                   round(X_train.age.mean() + 3 * X_train.age.std(), 3))\n",
    "\n",
    "X_train.head(15)"
   ]
  },
  {
   "cell_type": "markdown",
   "metadata": {},
   "source": [
    "### - Detection of changes before and after the imputation.\n",
    "\n",
    "__A) a change in the distribution:__"
   ]
  },
  {
   "cell_type": "code",
   "execution_count": 9,
   "metadata": {
    "scrolled": true
   },
   "outputs": [
    {
     "data": {
      "text/plain": [
       "<matplotlib.legend.Legend at 0x23af61a02e0>"
      ]
     },
     "execution_count": 9,
     "metadata": {},
     "output_type": "execute_result"
    },
    {
     "data": {
      "image/png": "[encoded data removed]",
      "text/plain": [
       "<Figure size 432x288 with 1 Axes>"
      ]
     },
     "metadata": {
      "needs_background": "light"
     },
     "output_type": "display_data"
    }
   ],
   "source": [
    "# expected: it has changed \n",
    "# with now more values accumulating towards the tail\n",
    "\n",
    "fig = plt.figure()\n",
    "ax = fig.add_subplot(111)\n",
    "\n",
    "# original variable distribution\n",
    "X_train['age'].plot(kind='kde', ax=ax)\n",
    "\n",
    "# imputed variable\n",
    "X_train['Age_imputed'].plot(kind='kde', ax=ax, color='red')\n",
    "\n",
    "# add legends\n",
    "lines, labels = ax.get_legend_handles_labels()\n",
    "ax.legend(lines, labels, loc='best')"
   ]
  },
  {
   "cell_type": "markdown",
   "metadata": {},
   "source": [
    "As mentioned above, similarly to arbitrary value imputation, the end of tail imputation distorts the original distribution of the variable Age. The transformed variable shows more values around the selected tail value.\n",
    "\n",
    "_bad for_: linear models which assume that the variables are normally distributed. End of tail imputation may distort the original normal distribution if the % of missing data is high. Therefore the final imputed variable will no longer be normally distributed, which in turn may affect the linear model performance.\n",
    "\n",
    "\n",
    "_good for_: tree-based algorithms."
   ]
  },
  {
   "cell_type": "markdown",
   "metadata": {},
   "source": [
    "__B) a change in the variance:__"
   ]
  },
  {
   "cell_type": "code",
   "execution_count": 10,
   "metadata": {},
   "outputs": [
    {
     "name": "stdout",
     "output_type": "stream",
     "text": [
      "Original variable variance:  194.16304666581854\n",
      "Variance after 99 imputation:  427.3898592349109\n"
     ]
    }
   ],
   "source": [
    "# expected: quite a big changes  \n",
    "# as the percentage of missing data is quite high in Age (~20%)\n",
    "\n",
    "print('Original variable variance: ', X_train['age'].var())\n",
    "print('Variance after 99 imputation: ', X_train['Age_imputed'].var())"
   ]
  },
  {
   "cell_type": "markdown",
   "metadata": {},
   "source": [
    "__C) a change in the covariance:__"
   ]
  },
  {
   "cell_type": "code",
   "execution_count": 11,
   "metadata": {},
   "outputs": [
    {
     "data": {
      "text/html": [
       "<div>\n",
       "<style scoped>\n",
       "    .dataframe tbody tr th:only-of-type {\n",
       "        vertical-align: middle;\n",
       "    }\n",
       "\n",
       "    .dataframe tbody tr th {\n",
       "        vertical-align: top;\n",
       "    }\n",
       "\n",
       "    .dataframe thead th {\n",
       "        text-align: right;\n",
       "    }\n",
       "</style>\n",
       "<table border=\"1\" class=\"dataframe\">\n",
       "  <thead>\n",
       "    <tr style=\"text-align: right;\">\n",
       "      <th></th>\n",
       "      <th>fare</th>\n",
       "      <th>age</th>\n",
       "      <th>Age_imputed</th>\n",
       "    </tr>\n",
       "  </thead>\n",
       "  <tbody>\n",
       "    <tr>\n",
       "      <th>fare</th>\n",
       "      <td>2248.326729</td>\n",
       "      <td>136.176223</td>\n",
       "      <td>19.647495</td>\n",
       "    </tr>\n",
       "    <tr>\n",
       "      <th>age</th>\n",
       "      <td>136.176223</td>\n",
       "      <td>194.163047</td>\n",
       "      <td>194.163047</td>\n",
       "    </tr>\n",
       "    <tr>\n",
       "      <th>Age_imputed</th>\n",
       "      <td>19.647495</td>\n",
       "      <td>194.163047</td>\n",
       "      <td>427.389859</td>\n",
       "    </tr>\n",
       "  </tbody>\n",
       "</table>\n",
       "</div>"
      ],
      "text/plain": [
       "                    fare         age  Age_imputed\n",
       "fare         2248.326729  136.176223    19.647495\n",
       "age           136.176223  194.163047   194.163047\n",
       "Age_imputed    19.647495  194.163047   427.389859"
      ]
     },
     "execution_count": 11,
     "metadata": {},
     "output_type": "execute_result"
    }
   ],
   "source": [
    "# end of tail imputation may affect the relationship \n",
    "# with the other variables in the dataset\n",
    "X_train[['fare', 'age', 'Age_imputed']].cov()"
   ]
  },
  {
   "cell_type": "markdown",
   "metadata": {},
   "source": [
    "We see indeed that the covariance between Age and Fare is changed after the arbitrary value imputation.\n",
    "\n",
    "__D) a change in the outlier amount:__"
   ]
  },
  {
   "cell_type": "code",
   "execution_count": 12,
   "metadata": {},
   "outputs": [
    {
     "data": {
      "text/plain": [
       "<AxesSubplot:>"
      ]
     },
     "execution_count": 12,
     "metadata": {},
     "output_type": "execute_result"
    },
    {
     "data": {
      "image/png": "[encoded data removed]",
      "text/plain": [
       "<Figure size 432x288 with 1 Axes>"
      ]
     },
     "metadata": {
      "needs_background": "light"
     },
     "output_type": "display_data"
    }
   ],
   "source": [
    "# that arbitrary value imputation may affect the perception of outliers\n",
    "\n",
    "# find out using a boxplot\n",
    "X_train[['age', 'Age_imputed']].boxplot()"
   ]
  },
  {
   "cell_type": "markdown",
   "metadata": {},
   "source": [
    "It masks the outliers!!!"
   ]
  },
  {
   "cell_type": "markdown",
   "metadata": {},
   "source": [
    "# II. House Prices Dataset\n",
    "\n",
    "## 1. Loading Data and Basic Data Exploration"
   ]
  },
  {
   "cell_type": "code",
   "execution_count": 13,
   "metadata": {},
   "outputs": [],
   "source": [
    "# use only the following variables (the best suitable columns)\n",
    "\n",
    "cols_to_use = [\n",
    "    'OverallQual', 'TotalBsmtSF', '1stFlrSF', 'GrLivArea', 'WoodDeckSF',\n",
    "    'BsmtUnfSF', 'LotFrontage', 'MasVnrArea', 'GarageYrBlt', 'SalePrice'\n",
    "]"
   ]
  },
  {
   "cell_type": "code",
   "execution_count": 14,
   "metadata": {},
   "outputs": [
    {
     "name": "stdout",
     "output_type": "stream",
     "text": [
      "(1460, 10)\n"
     ]
    },
    {
     "data": {
      "text/html": [
       "<div>\n",
       "<style scoped>\n",
       "    .dataframe tbody tr th:only-of-type {\n",
       "        vertical-align: middle;\n",
       "    }\n",
       "\n",
       "    .dataframe tbody tr th {\n",
       "        vertical-align: top;\n",
       "    }\n",
       "\n",
       "    .dataframe thead th {\n",
       "        text-align: right;\n",
       "    }\n",
       "</style>\n",
       "<table border=\"1\" class=\"dataframe\">\n",
       "  <thead>\n",
       "    <tr style=\"text-align: right;\">\n",
       "      <th></th>\n",
       "      <th>LotFrontage</th>\n",
       "      <th>OverallQual</th>\n",
       "      <th>MasVnrArea</th>\n",
       "      <th>BsmtUnfSF</th>\n",
       "      <th>TotalBsmtSF</th>\n",
       "      <th>1stFlrSF</th>\n",
       "      <th>GrLivArea</th>\n",
       "      <th>GarageYrBlt</th>\n",
       "      <th>WoodDeckSF</th>\n",
       "      <th>SalePrice</th>\n",
       "    </tr>\n",
       "  </thead>\n",
       "  <tbody>\n",
       "    <tr>\n",
       "      <th>0</th>\n",
       "      <td>65.0</td>\n",
       "      <td>7</td>\n",
       "      <td>196.0</td>\n",
       "      <td>150</td>\n",
       "      <td>856</td>\n",
       "      <td>856</td>\n",
       "      <td>1710</td>\n",
       "      <td>2003.0</td>\n",
       "      <td>0</td>\n",
       "      <td>208500</td>\n",
       "    </tr>\n",
       "    <tr>\n",
       "      <th>1</th>\n",
       "      <td>80.0</td>\n",
       "      <td>6</td>\n",
       "      <td>0.0</td>\n",
       "      <td>284</td>\n",
       "      <td>1262</td>\n",
       "      <td>1262</td>\n",
       "      <td>1262</td>\n",
       "      <td>1976.0</td>\n",
       "      <td>298</td>\n",
       "      <td>181500</td>\n",
       "    </tr>\n",
       "    <tr>\n",
       "      <th>2</th>\n",
       "      <td>68.0</td>\n",
       "      <td>7</td>\n",
       "      <td>162.0</td>\n",
       "      <td>434</td>\n",
       "      <td>920</td>\n",
       "      <td>920</td>\n",
       "      <td>1786</td>\n",
       "      <td>2001.0</td>\n",
       "      <td>0</td>\n",
       "      <td>223500</td>\n",
       "    </tr>\n",
       "    <tr>\n",
       "      <th>3</th>\n",
       "      <td>60.0</td>\n",
       "      <td>7</td>\n",
       "      <td>0.0</td>\n",
       "      <td>540</td>\n",
       "      <td>756</td>\n",
       "      <td>961</td>\n",
       "      <td>1717</td>\n",
       "      <td>1998.0</td>\n",
       "      <td>0</td>\n",
       "      <td>140000</td>\n",
       "    </tr>\n",
       "    <tr>\n",
       "      <th>4</th>\n",
       "      <td>84.0</td>\n",
       "      <td>8</td>\n",
       "      <td>350.0</td>\n",
       "      <td>490</td>\n",
       "      <td>1145</td>\n",
       "      <td>1145</td>\n",
       "      <td>2198</td>\n",
       "      <td>2000.0</td>\n",
       "      <td>192</td>\n",
       "      <td>250000</td>\n",
       "    </tr>\n",
       "  </tbody>\n",
       "</table>\n",
       "</div>"
      ],
      "text/plain": [
       "   LotFrontage  OverallQual  MasVnrArea  BsmtUnfSF  TotalBsmtSF  1stFlrSF  \\\n",
       "0         65.0            7       196.0        150          856       856   \n",
       "1         80.0            6         0.0        284         1262      1262   \n",
       "2         68.0            7       162.0        434          920       920   \n",
       "3         60.0            7         0.0        540          756       961   \n",
       "4         84.0            8       350.0        490         1145      1145   \n",
       "\n",
       "   GrLivArea  GarageYrBlt  WoodDeckSF  SalePrice  \n",
       "0       1710       2003.0           0     208500  \n",
       "1       1262       1976.0         298     181500  \n",
       "2       1786       2001.0           0     223500  \n",
       "3       1717       1998.0           0     140000  \n",
       "4       2198       2000.0         192     250000  "
      ]
     },
     "execution_count": 14,
     "metadata": {},
     "output_type": "execute_result"
    }
   ],
   "source": [
    "# load the House Prices dataset\n",
    "\n",
    "data = pd.read_csv('../houseprice.csv', usecols=cols_to_use)\n",
    "print(data.shape)\n",
    "data.head()"
   ]
  },
  {
   "cell_type": "code",
   "execution_count": 15,
   "metadata": {},
   "outputs": [
    {
     "data": {
      "text/plain": [
       "['LotFrontage', 'MasVnrArea', 'GarageYrBlt']"
      ]
     },
     "execution_count": 15,
     "metadata": {},
     "output_type": "execute_result"
    }
   ],
   "source": [
    "# print the variables that contain missing data\n",
    "\n",
    "[var for var in data.columns if data[var].isnull().sum()>0]"
   ]
  },
  {
   "cell_type": "code",
   "execution_count": 16,
   "metadata": {
    "scrolled": true
   },
   "outputs": [
    {
     "data": {
      "text/plain": [
       "LotFrontage    0.177397\n",
       "MasVnrArea     0.005479\n",
       "GarageYrBlt    0.055479\n",
       "dtype: float64"
      ]
     },
     "execution_count": 16,
     "metadata": {},
     "output_type": "execute_result"
    }
   ],
   "source": [
    "# find the percentage of missing data within those variables\n",
    "\n",
    "data[['LotFrontage', 'MasVnrArea', 'GarageYrBlt']].isnull().mean()"
   ]
  },
  {
   "cell_type": "markdown",
   "metadata": {},
   "source": [
    "## 2. Imputation\n",
    "\n",
    "### - Train/Test splitting"
   ]
  },
  {
   "cell_type": "code",
   "execution_count": 17,
   "metadata": {
    "scrolled": false
   },
   "outputs": [
    {
     "data": {
      "text/plain": [
       "((1022, 10), (438, 10))"
      ]
     },
     "execution_count": 17,
     "metadata": {},
     "output_type": "execute_result"
    }
   ],
   "source": [
    "# train_test_split\n",
    "\n",
    "X_train, X_test, y_train, y_test = train_test_split(data,\n",
    "                                                    data['SalePrice'],\n",
    "                                                    test_size=0.3,\n",
    "                                                    random_state=0)\n",
    "X_train.shape, X_test.shape"
   ]
  },
  {
   "cell_type": "markdown",
   "metadata": {},
   "source": [
    "### - Identifying missing values columns and an extreme value. Adding extreme value columns"
   ]
  },
  {
   "cell_type": "code",
   "execution_count": 18,
   "metadata": {},
   "outputs": [
    {
     "data": {
      "image/png": "[encoded data removed]",
      "text/plain": [
       "<Figure size 720x720 with 4 Axes>"
      ]
     },
     "metadata": {
      "needs_background": "light"
     },
     "output_type": "display_data"
    }
   ],
   "source": [
    "# explore the distribution of the variables\n",
    "# to decide which extreme value to use\n",
    "\n",
    "X_train[['LotFrontage', 'MasVnrArea', 'GarageYrBlt']].hist(bins=50, figsize=(10,10))\n",
    "plt.show()"
   ]
  },
  {
   "cell_type": "code",
   "execution_count": 19,
   "metadata": {},
   "outputs": [],
   "source": [
    "# the variables are not normally distributed\n",
    "\n",
    "# gonna impute the NA using the IQR proximity rule"
   ]
  },
  {
   "cell_type": "code",
   "execution_count": 20,
   "metadata": {},
   "outputs": [
    {
     "data": {
      "text/plain": [
       "146.0"
      ]
     },
     "execution_count": 20,
     "metadata": {},
     "output_type": "execute_result"
    }
   ],
   "source": [
    "# for LotFrontage:\n",
    "\n",
    "# calulate the IQR\n",
    "IQR = X_train['LotFrontage'].quantile(0.75) - X_train['LotFrontage'].quantile(\n",
    "    0.25)\n",
    "\n",
    "# calculate the upper boundary\n",
    "extreme_value = X_train['LotFrontage'].quantile(0.75) + 3 * IQR\n",
    "\n",
    "extreme_value"
   ]
  },
  {
   "cell_type": "code",
   "execution_count": 21,
   "metadata": {},
   "outputs": [
    {
     "name": "stderr",
     "output_type": "stream",
     "text": [
      "C:\\Users\\48796\\anaconda3\\lib\\site-packages\\pandas\\core\\indexing.py:1596: SettingWithCopyWarning: \n",
      "A value is trying to be set on a copy of a slice from a DataFrame.\n",
      "Try using .loc[row_indexer,col_indexer] = value instead\n",
      "\n",
      "See the caveats in the documentation: https://pandas.pydata.org/pandas-docs/stable/user_guide/indexing.html#returning-a-view-versus-a-copy\n",
      "  self.obj[key] = _infer_fill_value(value)\n",
      "C:\\Users\\48796\\anaconda3\\lib\\site-packages\\pandas\\core\\indexing.py:1745: SettingWithCopyWarning: \n",
      "A value is trying to be set on a copy of a slice from a DataFrame.\n",
      "Try using .loc[row_indexer,col_indexer] = value instead\n",
      "\n",
      "See the caveats in the documentation: https://pandas.pydata.org/pandas-docs/stable/user_guide/indexing.html#returning-a-view-versus-a-copy\n",
      "  isetter(ilocs[0], value)\n"
     ]
    }
   ],
   "source": [
    "# LotFrontage: impute the NA with the extreme value\n",
    "\n",
    "X_train.loc[:,'LotFrontage_imputed'] = impute_na(X_train, 'LotFrontage', extreme_value)\n",
    "X_test.loc[:,'LotFrontage_imputed'] = impute_na(X_test, 'LotFrontage', extreme_value)"
   ]
  },
  {
   "cell_type": "code",
   "execution_count": 22,
   "metadata": {},
   "outputs": [
    {
     "data": {
      "text/plain": [
       "680.0"
      ]
     },
     "execution_count": 22,
     "metadata": {},
     "output_type": "execute_result"
    }
   ],
   "source": [
    "# the same for MasVnrArea:\n",
    "\n",
    "# calculate the IQR\n",
    "IQR = X_train['MasVnrArea'].quantile(0.75) - X_train['MasVnrArea'].quantile(\n",
    "    0.25)\n",
    "\n",
    "# calculate the upper boundary\n",
    "extreme_value = X_train['MasVnrArea'].quantile(0.75) + 3 * IQR\n",
    "\n",
    "extreme_value"
   ]
  },
  {
   "cell_type": "code",
   "execution_count": 23,
   "metadata": {
    "scrolled": true
   },
   "outputs": [],
   "source": [
    "# MasVnrArea: impute the NA with the extreme value\n",
    "\n",
    "X_train.loc[:,'MasVnrArea_imputed'] = impute_na(X_train, 'MasVnrArea', extreme_value)\n",
    "X_test.loc[:,'MasVnrArea_imputed'] = impute_na(X_test, 'MasVnrArea', extreme_value)"
   ]
  },
  {
   "cell_type": "code",
   "execution_count": 24,
   "metadata": {},
   "outputs": [
    {
     "data": {
      "text/plain": [
       "2121.0"
      ]
     },
     "execution_count": 24,
     "metadata": {},
     "output_type": "execute_result"
    }
   ],
   "source": [
    "# the same for GarageYrBlt:\n",
    "\n",
    "# calculate the IQR\n",
    "IQR = X_train['GarageYrBlt'].quantile(0.75) - X_train['GarageYrBlt'].quantile(\n",
    "    0.25)\n",
    "\n",
    "# calculate the upper boundary\n",
    "extreme_value = X_train['GarageYrBlt'].quantile(0.75) + 3 * IQR\n",
    "\n",
    "extreme_value"
   ]
  },
  {
   "cell_type": "code",
   "execution_count": 25,
   "metadata": {},
   "outputs": [],
   "source": [
    "# GarageYrBlt: impute the NA with the extreme value\n",
    "\n",
    "X_train.loc[:,'GarageYrBlt_imputed'] = impute_na(X_train, 'GarageYrBlt', extreme_value)\n",
    "X_test.loc[:,'GarageYrBlt_imputed'] = impute_na(X_test, 'GarageYrBlt', extreme_value)"
   ]
  },
  {
   "cell_type": "markdown",
   "metadata": {},
   "source": [
    "### - Detection of changes before and after the imputation.\n",
    "\n",
    "__A) a change in the distribution:__"
   ]
  },
  {
   "cell_type": "code",
   "execution_count": 26,
   "metadata": {},
   "outputs": [
    {
     "data": {
      "text/plain": [
       "<matplotlib.legend.Legend at 0x23af61a6790>"
      ]
     },
     "execution_count": 26,
     "metadata": {},
     "output_type": "execute_result"
    },
    {
     "data": {
      "image/png": "[encoded data removed]",
      "text/plain": [
       "<Figure size 432x288 with 1 Axes>"
      ]
     },
     "metadata": {
      "needs_background": "light"
     },
     "output_type": "display_data"
    }
   ],
   "source": [
    "# for LotFrontAge: \n",
    "\n",
    "# expected: the distribution has changed\n",
    "# with now more values accumulating towards the extreme value\n",
    "\n",
    "fig = plt.figure()\n",
    "ax = fig.add_subplot(111)\n",
    "\n",
    "# original variable distribution\n",
    "X_train['LotFrontage'].plot(kind='kde', ax=ax)\n",
    "\n",
    "# imputed variable\n",
    "X_train['LotFrontage_imputed'].plot(kind='kde', ax=ax, color='red')\n",
    "\n",
    "# add legends\n",
    "lines, labels = ax.get_legend_handles_labels()\n",
    "ax.legend(lines, labels, loc='best')"
   ]
  },
  {
   "cell_type": "code",
   "execution_count": 27,
   "metadata": {
    "scrolled": true
   },
   "outputs": [
    {
     "data": {
      "text/plain": [
       "<matplotlib.legend.Legend at 0x23af660bbe0>"
      ]
     },
     "execution_count": 27,
     "metadata": {},
     "output_type": "execute_result"
    },
    {
     "data": {
      "image/png": "[encoded data removed]",
      "text/plain": [
       "<Figure size 432x288 with 1 Axes>"
      ]
     },
     "metadata": {
      "needs_background": "light"
     },
     "output_type": "display_data"
    }
   ],
   "source": [
    "# for MasVnrArea: \n",
    "\n",
    "# expected: the distribution has tiny change, as\n",
    "# MasVnrArea had only few outliers\n",
    "\n",
    "fig = plt.figure()\n",
    "ax = fig.add_subplot(111)\n",
    "\n",
    "# original variable distribution\n",
    "X_train['MasVnrArea'].plot(kind='kde', ax=ax)\n",
    "\n",
    "# imputed variable\n",
    "X_train['MasVnrArea_imputed'].plot(kind='kde', ax=ax, color='red')\n",
    "\n",
    "# add legends\n",
    "lines, labels = ax.get_legend_handles_labels()\n",
    "ax.legend(lines, labels, loc='best')"
   ]
  },
  {
   "cell_type": "markdown",
   "metadata": {
    "collapsed": true
   },
   "source": [
    "From the above plots we can see that the distribution of LotFrontAge is changed quite dramatically, but not so much the distribution of MasVnrArea. This is because the % of missing values in the second variable is quite small."
   ]
  },
  {
   "cell_type": "code",
   "execution_count": 28,
   "metadata": {},
   "outputs": [
    {
     "data": {
      "text/plain": [
       "<matplotlib.legend.Legend at 0x23af667b370>"
      ]
     },
     "execution_count": 28,
     "metadata": {},
     "output_type": "execute_result"
    },
    {
     "data": {
      "image/png": "[encoded data removed]",
      "text/plain": [
       "<Figure size 432x288 with 1 Axes>"
      ]
     },
     "metadata": {
      "needs_background": "light"
     },
     "output_type": "display_data"
    }
   ],
   "source": [
    "# for GarageYrBlt: \n",
    "\n",
    "# expected: the distribution has a small change\n",
    "\n",
    "fig = plt.figure()\n",
    "ax = fig.add_subplot(111)\n",
    "\n",
    "# original variable distribution\n",
    "X_train['GarageYrBlt'].plot(kind='kde', ax=ax)\n",
    "\n",
    "# imputed variable\n",
    "X_train['GarageYrBlt_imputed'].plot(kind='kde', ax=ax, color='red')\n",
    "\n",
    "# add legends\n",
    "lines, labels = ax.get_legend_handles_labels()\n",
    "ax.legend(lines, labels, loc='best')"
   ]
  },
  {
   "cell_type": "markdown",
   "metadata": {},
   "source": [
    "__B) a change in the variance:__"
   ]
  },
  {
   "cell_type": "code",
   "execution_count": 29,
   "metadata": {},
   "outputs": [
    {
     "name": "stdout",
     "output_type": "stream",
     "text": [
      "Original Variance:  532.5872021885676\n",
      "Variance after imputation:  1313.0936747097685\n"
     ]
    }
   ],
   "source": [
    "# for LotFrontAge: \n",
    "\n",
    "# expected: quite a bit as the percentage of missing data is quite\n",
    "# high ~20%\n",
    "\n",
    "print('Original Variance: ', X_train['LotFrontage'].var())\n",
    "print('Variance after imputation: ', X_train['LotFrontage_imputed'].var())"
   ]
  },
  {
   "cell_type": "code",
   "execution_count": 30,
   "metadata": {},
   "outputs": [
    {
     "name": "stdout",
     "output_type": "stream",
     "text": [
      "Original Variance:  32983.538710039466\n",
      "Variance after imputation:  34441.33126074531\n"
     ]
    }
   ],
   "source": [
    "# for MasnVnrArea: \n",
    "\n",
    "# expected: tiny changes\n",
    "\n",
    "print('Original Variance: ', X_train['MasVnrArea'].var())\n",
    "print('Variance after imputation: ', X_train['MasVnrArea_imputed'].var())"
   ]
  },
  {
   "cell_type": "code",
   "execution_count": 31,
   "metadata": {},
   "outputs": [
    {
     "name": "stdout",
     "output_type": "stream",
     "text": [
      "Original Variance:  624.3059475074134\n",
      "Variance after imputation:  1615.4973961677558\n"
     ]
    }
   ],
   "source": [
    "# for GarageYrBlt: \n",
    "\n",
    "# expected: big change\n",
    "\n",
    "print('Original Variance: ', X_train['GarageYrBlt'].var())\n",
    "print('Variance after imputation: ', X_train['GarageYrBlt_imputed'].var())"
   ]
  },
  {
   "cell_type": "markdown",
   "metadata": {},
   "source": [
    "__C) a change in the covariance:__"
   ]
  },
  {
   "cell_type": "code",
   "execution_count": 32,
   "metadata": {
    "scrolled": true
   },
   "outputs": [
    {
     "data": {
      "text/html": [
       "<div>\n",
       "<style scoped>\n",
       "    .dataframe tbody tr th:only-of-type {\n",
       "        vertical-align: middle;\n",
       "    }\n",
       "\n",
       "    .dataframe tbody tr th {\n",
       "        vertical-align: top;\n",
       "    }\n",
       "\n",
       "    .dataframe thead th {\n",
       "        text-align: right;\n",
       "    }\n",
       "</style>\n",
       "<table border=\"1\" class=\"dataframe\">\n",
       "  <thead>\n",
       "    <tr style=\"text-align: right;\">\n",
       "      <th></th>\n",
       "      <th>LotFrontage</th>\n",
       "      <th>OverallQual</th>\n",
       "      <th>MasVnrArea</th>\n",
       "      <th>BsmtUnfSF</th>\n",
       "      <th>TotalBsmtSF</th>\n",
       "      <th>1stFlrSF</th>\n",
       "      <th>GrLivArea</th>\n",
       "      <th>GarageYrBlt</th>\n",
       "      <th>WoodDeckSF</th>\n",
       "      <th>SalePrice</th>\n",
       "      <th>LotFrontage_imputed</th>\n",
       "      <th>MasVnrArea_imputed</th>\n",
       "      <th>GarageYrBlt_imputed</th>\n",
       "    </tr>\n",
       "  </thead>\n",
       "  <tbody>\n",
       "    <tr>\n",
       "      <th>LotFrontage</th>\n",
       "      <td>532.587202</td>\n",
       "      <td>6.587119</td>\n",
       "      <td>6.805603e+02</td>\n",
       "      <td>9.496573e+02</td>\n",
       "      <td>2.908856e+03</td>\n",
       "      <td>3.379794e+03</td>\n",
       "      <td>3.919952e+03</td>\n",
       "      <td>30.611717</td>\n",
       "      <td>1.347414e+02</td>\n",
       "      <td>6.689645e+05</td>\n",
       "      <td>532.587202</td>\n",
       "      <td>6.934872e+02</td>\n",
       "      <td>-71.708328</td>\n",
       "    </tr>\n",
       "    <tr>\n",
       "      <th>OverallQual</th>\n",
       "      <td>6.587119</td>\n",
       "      <td>1.843859</td>\n",
       "      <td>1.014970e+02</td>\n",
       "      <td>1.746147e+02</td>\n",
       "      <td>2.886241e+02</td>\n",
       "      <td>2.242973e+02</td>\n",
       "      <td>4.091242e+02</td>\n",
       "      <td>17.902809</td>\n",
       "      <td>3.168557e+01</td>\n",
       "      <td>8.320132e+04</td>\n",
       "      <td>3.425501</td>\n",
       "      <td>1.035991e+02</td>\n",
       "      <td>5.292881</td>\n",
       "    </tr>\n",
       "    <tr>\n",
       "      <th>MasVnrArea</th>\n",
       "      <td>680.560330</td>\n",
       "      <td>101.496976</td>\n",
       "      <td>3.298354e+04</td>\n",
       "      <td>7.540788e+03</td>\n",
       "      <td>2.478877e+04</td>\n",
       "      <td>2.086595e+04</td>\n",
       "      <td>3.520785e+04</td>\n",
       "      <td>1203.583792</td>\n",
       "      <td>3.208924e+03</td>\n",
       "      <td>6.836439e+06</td>\n",
       "      <td>639.100679</td>\n",
       "      <td>3.298354e+04</td>\n",
       "      <td>473.033527</td>\n",
       "    </tr>\n",
       "    <tr>\n",
       "      <th>BsmtUnfSF</th>\n",
       "      <td>949.657293</td>\n",
       "      <td>174.614725</td>\n",
       "      <td>7.540788e+03</td>\n",
       "      <td>1.875241e+05</td>\n",
       "      <td>7.513307e+04</td>\n",
       "      <td>4.987449e+04</td>\n",
       "      <td>5.203392e+04</td>\n",
       "      <td>1823.065167</td>\n",
       "      <td>-1.833201e+03</td>\n",
       "      <td>6.833028e+06</td>\n",
       "      <td>-850.739199</td>\n",
       "      <td>7.680598e+03</td>\n",
       "      <td>1364.263017</td>\n",
       "    </tr>\n",
       "    <tr>\n",
       "      <th>TotalBsmtSF</th>\n",
       "      <td>2908.855504</td>\n",
       "      <td>288.624075</td>\n",
       "      <td>2.478877e+04</td>\n",
       "      <td>7.513307e+04</td>\n",
       "      <td>1.682931e+05</td>\n",
       "      <td>1.212079e+05</td>\n",
       "      <td>8.615192e+04</td>\n",
       "      <td>3173.042442</td>\n",
       "      <td>1.227966e+04</td>\n",
       "      <td>2.003928e+07</td>\n",
       "      <td>2308.792907</td>\n",
       "      <td>2.473980e+04</td>\n",
       "      <td>725.046819</td>\n",
       "    </tr>\n",
       "    <tr>\n",
       "      <th>1stFlrSF</th>\n",
       "      <td>3379.793504</td>\n",
       "      <td>224.297266</td>\n",
       "      <td>2.086595e+04</td>\n",
       "      <td>4.987449e+04</td>\n",
       "      <td>1.212079e+05</td>\n",
       "      <td>1.398656e+05</td>\n",
       "      <td>1.044401e+05</td>\n",
       "      <td>2009.195552</td>\n",
       "      <td>1.109406e+04</td>\n",
       "      <td>1.783631e+07</td>\n",
       "      <td>3142.724647</td>\n",
       "      <td>2.055453e+04</td>\n",
       "      <td>70.141209</td>\n",
       "    </tr>\n",
       "    <tr>\n",
       "      <th>GrLivArea</th>\n",
       "      <td>3919.951834</td>\n",
       "      <td>409.124216</td>\n",
       "      <td>3.520785e+04</td>\n",
       "      <td>5.203392e+04</td>\n",
       "      <td>8.615192e+04</td>\n",
       "      <td>1.044401e+05</td>\n",
       "      <td>2.681277e+05</td>\n",
       "      <td>2738.982988</td>\n",
       "      <td>1.558395e+04</td>\n",
       "      <td>2.934477e+07</td>\n",
       "      <td>3723.250100</td>\n",
       "      <td>3.541558e+04</td>\n",
       "      <td>20.700275</td>\n",
       "    </tr>\n",
       "    <tr>\n",
       "      <th>GarageYrBlt</th>\n",
       "      <td>30.611717</td>\n",
       "      <td>17.902809</td>\n",
       "      <td>1.203584e+03</td>\n",
       "      <td>1.823065e+03</td>\n",
       "      <td>3.173042e+03</td>\n",
       "      <td>2.009196e+03</td>\n",
       "      <td>2.738983e+03</td>\n",
       "      <td>624.305948</td>\n",
       "      <td>6.658911e+02</td>\n",
       "      <td>9.309355e+05</td>\n",
       "      <td>26.484608</td>\n",
       "      <td>1.274750e+03</td>\n",
       "      <td>624.305948</td>\n",
       "    </tr>\n",
       "    <tr>\n",
       "      <th>WoodDeckSF</th>\n",
       "      <td>134.741376</td>\n",
       "      <td>31.685571</td>\n",
       "      <td>3.208924e+03</td>\n",
       "      <td>-1.833201e+03</td>\n",
       "      <td>1.227966e+04</td>\n",
       "      <td>1.109406e+04</td>\n",
       "      <td>1.558395e+04</td>\n",
       "      <td>665.891118</td>\n",
       "      <td>1.648582e+04</td>\n",
       "      <td>3.029981e+06</td>\n",
       "      <td>542.437312</td>\n",
       "      <td>3.088048e+03</td>\n",
       "      <td>189.382659</td>\n",
       "    </tr>\n",
       "    <tr>\n",
       "      <th>SalePrice</th>\n",
       "      <td>668964.454191</td>\n",
       "      <td>83201.317781</td>\n",
       "      <td>6.836439e+06</td>\n",
       "      <td>6.833028e+06</td>\n",
       "      <td>2.003928e+07</td>\n",
       "      <td>1.783631e+07</td>\n",
       "      <td>2.934477e+07</td>\n",
       "      <td>930935.489321</td>\n",
       "      <td>3.029981e+06</td>\n",
       "      <td>6.105731e+09</td>\n",
       "      <td>578446.035624</td>\n",
       "      <td>6.872641e+06</td>\n",
       "      <td>271654.954164</td>\n",
       "    </tr>\n",
       "    <tr>\n",
       "      <th>LotFrontage_imputed</th>\n",
       "      <td>532.587202</td>\n",
       "      <td>3.425501</td>\n",
       "      <td>6.391007e+02</td>\n",
       "      <td>-8.507392e+02</td>\n",
       "      <td>2.308793e+03</td>\n",
       "      <td>3.142725e+03</td>\n",
       "      <td>3.723250e+03</td>\n",
       "      <td>26.484608</td>\n",
       "      <td>5.424373e+02</td>\n",
       "      <td>5.784460e+05</td>\n",
       "      <td>1313.093675</td>\n",
       "      <td>6.523871e+02</td>\n",
       "      <td>-110.113758</td>\n",
       "    </tr>\n",
       "    <tr>\n",
       "      <th>MasVnrArea_imputed</th>\n",
       "      <td>693.487235</td>\n",
       "      <td>103.599142</td>\n",
       "      <td>3.298354e+04</td>\n",
       "      <td>7.680598e+03</td>\n",
       "      <td>2.473980e+04</td>\n",
       "      <td>2.055453e+04</td>\n",
       "      <td>3.541558e+04</td>\n",
       "      <td>1274.749707</td>\n",
       "      <td>3.088048e+03</td>\n",
       "      <td>6.872641e+06</td>\n",
       "      <td>652.387102</td>\n",
       "      <td>3.444133e+04</td>\n",
       "      <td>523.315582</td>\n",
       "    </tr>\n",
       "    <tr>\n",
       "      <th>GarageYrBlt_imputed</th>\n",
       "      <td>-71.708328</td>\n",
       "      <td>5.292881</td>\n",
       "      <td>4.730335e+02</td>\n",
       "      <td>1.364263e+03</td>\n",
       "      <td>7.250468e+02</td>\n",
       "      <td>7.014121e+01</td>\n",
       "      <td>2.070027e+01</td>\n",
       "      <td>624.305948</td>\n",
       "      <td>1.893827e+02</td>\n",
       "      <td>2.716550e+05</td>\n",
       "      <td>-110.113758</td>\n",
       "      <td>5.233156e+02</td>\n",
       "      <td>1615.497396</td>\n",
       "    </tr>\n",
       "  </tbody>\n",
       "</table>\n",
       "</div>"
      ],
      "text/plain": [
       "                       LotFrontage   OverallQual    MasVnrArea     BsmtUnfSF  \\\n",
       "LotFrontage             532.587202      6.587119  6.805603e+02  9.496573e+02   \n",
       "OverallQual               6.587119      1.843859  1.014970e+02  1.746147e+02   \n",
       "MasVnrArea              680.560330    101.496976  3.298354e+04  7.540788e+03   \n",
       "BsmtUnfSF               949.657293    174.614725  7.540788e+03  1.875241e+05   \n",
       "TotalBsmtSF            2908.855504    288.624075  2.478877e+04  7.513307e+04   \n",
       "1stFlrSF               3379.793504    224.297266  2.086595e+04  4.987449e+04   \n",
       "GrLivArea              3919.951834    409.124216  3.520785e+04  5.203392e+04   \n",
       "GarageYrBlt              30.611717     17.902809  1.203584e+03  1.823065e+03   \n",
       "WoodDeckSF              134.741376     31.685571  3.208924e+03 -1.833201e+03   \n",
       "SalePrice            668964.454191  83201.317781  6.836439e+06  6.833028e+06   \n",
       "LotFrontage_imputed     532.587202      3.425501  6.391007e+02 -8.507392e+02   \n",
       "MasVnrArea_imputed      693.487235    103.599142  3.298354e+04  7.680598e+03   \n",
       "GarageYrBlt_imputed     -71.708328      5.292881  4.730335e+02  1.364263e+03   \n",
       "\n",
       "                      TotalBsmtSF      1stFlrSF     GrLivArea    GarageYrBlt  \\\n",
       "LotFrontage          2.908856e+03  3.379794e+03  3.919952e+03      30.611717   \n",
       "OverallQual          2.886241e+02  2.242973e+02  4.091242e+02      17.902809   \n",
       "MasVnrArea           2.478877e+04  2.086595e+04  3.520785e+04    1203.583792   \n",
       "BsmtUnfSF            7.513307e+04  4.987449e+04  5.203392e+04    1823.065167   \n",
       "TotalBsmtSF          1.682931e+05  1.212079e+05  8.615192e+04    3173.042442   \n",
       "1stFlrSF             1.212079e+05  1.398656e+05  1.044401e+05    2009.195552   \n",
       "GrLivArea            8.615192e+04  1.044401e+05  2.681277e+05    2738.982988   \n",
       "GarageYrBlt          3.173042e+03  2.009196e+03  2.738983e+03     624.305948   \n",
       "WoodDeckSF           1.227966e+04  1.109406e+04  1.558395e+04     665.891118   \n",
       "SalePrice            2.003928e+07  1.783631e+07  2.934477e+07  930935.489321   \n",
       "LotFrontage_imputed  2.308793e+03  3.142725e+03  3.723250e+03      26.484608   \n",
       "MasVnrArea_imputed   2.473980e+04  2.055453e+04  3.541558e+04    1274.749707   \n",
       "GarageYrBlt_imputed  7.250468e+02  7.014121e+01  2.070027e+01     624.305948   \n",
       "\n",
       "                       WoodDeckSF     SalePrice  LotFrontage_imputed  \\\n",
       "LotFrontage          1.347414e+02  6.689645e+05           532.587202   \n",
       "OverallQual          3.168557e+01  8.320132e+04             3.425501   \n",
       "MasVnrArea           3.208924e+03  6.836439e+06           639.100679   \n",
       "BsmtUnfSF           -1.833201e+03  6.833028e+06          -850.739199   \n",
       "TotalBsmtSF          1.227966e+04  2.003928e+07          2308.792907   \n",
       "1stFlrSF             1.109406e+04  1.783631e+07          3142.724647   \n",
       "GrLivArea            1.558395e+04  2.934477e+07          3723.250100   \n",
       "GarageYrBlt          6.658911e+02  9.309355e+05            26.484608   \n",
       "WoodDeckSF           1.648582e+04  3.029981e+06           542.437312   \n",
       "SalePrice            3.029981e+06  6.105731e+09        578446.035624   \n",
       "LotFrontage_imputed  5.424373e+02  5.784460e+05          1313.093675   \n",
       "MasVnrArea_imputed   3.088048e+03  6.872641e+06           652.387102   \n",
       "GarageYrBlt_imputed  1.893827e+02  2.716550e+05          -110.113758   \n",
       "\n",
       "                     MasVnrArea_imputed  GarageYrBlt_imputed  \n",
       "LotFrontage                6.934872e+02           -71.708328  \n",
       "OverallQual                1.035991e+02             5.292881  \n",
       "MasVnrArea                 3.298354e+04           473.033527  \n",
       "BsmtUnfSF                  7.680598e+03          1364.263017  \n",
       "TotalBsmtSF                2.473980e+04           725.046819  \n",
       "1stFlrSF                   2.055453e+04            70.141209  \n",
       "GrLivArea                  3.541558e+04            20.700275  \n",
       "GarageYrBlt                1.274750e+03           624.305948  \n",
       "WoodDeckSF                 3.088048e+03           189.382659  \n",
       "SalePrice                  6.872641e+06        271654.954164  \n",
       "LotFrontage_imputed        6.523871e+02          -110.113758  \n",
       "MasVnrArea_imputed         3.444133e+04           523.315582  \n",
       "GarageYrBlt_imputed        5.233156e+02          1615.497396  "
      ]
     },
     "execution_count": 32,
     "metadata": {},
     "output_type": "execute_result"
    }
   ],
   "source": [
    "X_train.cov()"
   ]
  },
  {
   "cell_type": "markdown",
   "metadata": {},
   "source": [
    "__D) a change in the outlier amount:__"
   ]
  },
  {
   "cell_type": "code",
   "execution_count": 33,
   "metadata": {
    "scrolled": true
   },
   "outputs": [
    {
     "data": {
      "text/plain": [
       "<AxesSubplot:>"
      ]
     },
     "execution_count": 33,
     "metadata": {},
     "output_type": "execute_result"
    },
    {
     "data": {
      "image/png": "[encoded data removed]",
      "text/plain": [
       "<Figure size 432x288 with 1 Axes>"
      ]
     },
     "metadata": {
      "needs_background": "light"
     },
     "output_type": "display_data"
    }
   ],
   "source": [
    "# for LotFrontAge: \n",
    "\n",
    "# fewer outliers as well after the imputation\n",
    "\n",
    "X_train[['LotFrontage', 'LotFrontage_imputed']].boxplot()"
   ]
  },
  {
   "cell_type": "code",
   "execution_count": 34,
   "metadata": {
    "scrolled": true
   },
   "outputs": [
    {
     "data": {
      "text/plain": [
       "<AxesSubplot:>"
      ]
     },
     "execution_count": 34,
     "metadata": {},
     "output_type": "execute_result"
    },
    {
     "data": {
      "image/png": "[encoded data removed]",
      "text/plain": [
       "<Figure size 432x288 with 1 Axes>"
      ]
     },
     "metadata": {
      "needs_background": "light"
     },
     "output_type": "display_data"
    }
   ],
   "source": [
    "# for MasVnrArea: \n",
    "\n",
    "# the outliers are not so affected\n",
    "\n",
    "X_train[['MasVnrArea', 'MasVnrArea_imputed']].boxplot()"
   ]
  },
  {
   "cell_type": "code",
   "execution_count": 35,
   "metadata": {},
   "outputs": [
    {
     "data": {
      "text/plain": [
       "<AxesSubplot:>"
      ]
     },
     "execution_count": 35,
     "metadata": {},
     "output_type": "execute_result"
    },
    {
     "data": {
      "image/png": "[encoded data removed]",
      "text/plain": [
       "<Figure size 432x288 with 1 Axes>"
      ]
     },
     "metadata": {
      "needs_background": "light"
     },
     "output_type": "display_data"
    }
   ],
   "source": [
    "# for GarageYrBlt: \n",
    "\n",
    "# more outliers might be there as the max value before imp - 2010.0,\n",
    "# imputed value - 2121.0\n",
    "\n",
    "X_train[['GarageYrBlt', 'GarageYrBlt_imputed']].boxplot()"
   ]
  },
  {
   "cell_type": "code",
   "execution_count": 36,
   "metadata": {},
   "outputs": [
    {
     "data": {
      "text/plain": [
       "2010.0"
      ]
     },
     "execution_count": 36,
     "metadata": {},
     "output_type": "execute_result"
    }
   ],
   "source": [
    "X_train.GarageYrBlt.max()"
   ]
  },
  {
   "cell_type": "code",
   "execution_count": 37,
   "metadata": {},
   "outputs": [
    {
     "data": {
      "text/plain": [
       "2121.0"
      ]
     },
     "execution_count": 37,
     "metadata": {},
     "output_type": "execute_result"
    }
   ],
   "source": [
    "X_train.GarageYrBlt_imputed.max()"
   ]
  },
  {
   "cell_type": "code",
   "execution_count": null,
   "metadata": {},
   "outputs": [],
   "source": []
  }
 ],
 "metadata": {
  "kernelspec": {
   "display_name": "Python 3",
   "language": "python",
   "name": "python3"
  },
  "language_info": {
   "codemirror_mode": {
    "name": "ipython",
    "version": 3
   },
   "file_extension": ".py",
   "mimetype": "text/x-python",
   "name": "python",
   "nbconvert_exporter": "python",
   "pygments_lexer": "ipython3",
   "version": "3.8.5"
  },
  "toc": {
   "base_numbering": 1,
   "nav_menu": {},
   "number_sections": true,
   "sideBar": true,
   "skip_h1_title": false,
   "title_cell": "Table of Contents",
   "title_sidebar": "Contents",
   "toc_cell": false,
   "toc_position": {},
   "toc_section_display": "block",
   "toc_window_display": true
  }
 },
 "nbformat": 4,
 "nbformat_minor": 2
}
